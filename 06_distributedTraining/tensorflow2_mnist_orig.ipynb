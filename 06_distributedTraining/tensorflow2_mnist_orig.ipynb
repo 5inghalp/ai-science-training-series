{
 "cells": [
  {
   "cell_type": "code",
   "execution_count": 1,
   "id": "62a8c998",
   "metadata": {},
   "outputs": [
    {
     "name": "stderr",
     "output_type": "stream",
     "text": [
      "2022-01-27 18:44:06.666906: W tensorflow/stream_executor/platform/default/dso_loader.cc:60] Could not load dynamic library 'libcudart.so.11.0'; dlerror: libcudart.so.11.0: cannot open shared object file: No such file or directory\n",
      "2022-01-27 18:44:06.666972: I tensorflow/stream_executor/cuda/cudart_stub.cc:29] Ignore above cudart dlerror if you do not have a GPU set up on your machine.\n"
     ]
    }
   ],
   "source": [
    "import tensorflow as tf\n",
    "import numpy as np"
   ]
  },
  {
   "cell_type": "code",
   "execution_count": 59,
   "id": "a3d8c16e",
   "metadata": {},
   "outputs": [],
   "source": [
    "gpus = tf.config.experimental.list_physical_devices('GPU')\n",
    "for gpu in gpus:\n",
    "    tf.config.experimental.set_memory_growth(gpu, True)"
   ]
  },
  {
   "cell_type": "markdown",
   "id": "ba7c8be3",
   "metadata": {},
   "source": [
    "## Paramemters"
   ]
  },
  {
   "cell_type": "code",
   "execution_count": 60,
   "id": "5f87f21a",
   "metadata": {},
   "outputs": [],
   "source": [
    "epochs = 16\n",
    "lr = 0.001"
   ]
  },
  {
   "cell_type": "markdown",
   "id": "1f883ee2",
   "metadata": {},
   "source": [
    "## Dataset"
   ]
  },
  {
   "cell_type": "code",
   "execution_count": 66,
   "id": "172cd648",
   "metadata": {},
   "outputs": [
    {
     "name": "stdout",
     "output_type": "stream",
     "text": [
      "(60000, 28, 28) (60000,)\n",
      "(10000, 28, 28) (10000,)\n"
     ]
    }
   ],
   "source": [
    "batch_size = 256\n",
    "\n",
    "(mnist_images, mnist_labels), (x_test, y_test) = \\\n",
    "    tf.keras.datasets.mnist.load_data(path='mnist.npz')\n",
    "\n",
    "print(mnist_images.shape, mnist_labels.shape)\n",
    "print(x_test.shape, y_test.shape)"
   ]
  },
  {
   "cell_type": "code",
   "execution_count": 69,
   "id": "e2cd3c2e",
   "metadata": {},
   "outputs": [],
   "source": [
    "dataset = tf.data.Dataset.from_tensor_slices(\n",
    "    (tf.cast(mnist_images[..., tf.newaxis] / 255.0, tf.float32),\n",
    "             tf.cast(mnist_labels, tf.int64))\n",
    ")\n",
    "test_dset = tf.data.Dataset.from_tensor_slices(\n",
    "    (tf.cast(x_test[..., tf.newaxis] / 255.0, tf.float32),\n",
    "             tf.cast(y_test, tf.int64))\n",
    ")\n",
    "\n",
    "nsamples = len(list(dataset))\n",
    "ntests = len(list(test_dset))\n",
    "\n",
    "dataset = dataset.repeat().shuffle(10000).batch(batch_size)\n",
    "test_dset  = test_dset.repeat().batch(batch_size)"
   ]
  },
  {
   "cell_type": "code",
   "execution_count": 70,
   "id": "db02f337",
   "metadata": {},
   "outputs": [
    {
     "name": "stdout",
     "output_type": "stream",
     "text": [
      "(256, 28, 28, 1) (256,)\n"
     ]
    },
    {
     "data": {
      "image/png": "[encoded data removed]",
      "text/plain": [
       "<Figure size 432x288 with 8 Axes>"
      ]
     },
     "metadata": {},
     "output_type": "display_data"
    }
   ],
   "source": [
    "import matplotlib.pylab as plt\n",
    "for x, y in dataset.take(1):\n",
    "    print(x.shape, y.shape)\n",
    "    for i in range(8):    \n",
    "        plt.subplot(181+i)\n",
    "        plt.imshow(x[i].numpy())\n",
    "        plt.xticks([]);plt.yticks([])\n",
    "        plt.title(y[i].numpy(), fontsize=18)\n",
    "plt.show()"
   ]
  },
  {
   "cell_type": "markdown",
   "id": "6c0cb938",
   "metadata": {},
   "source": [
    "## Model"
   ]
  },
  {
   "cell_type": "code",
   "execution_count": 71,
   "id": "7db8e0dd",
   "metadata": {},
   "outputs": [],
   "source": [
    "mnist_model = tf.keras.Sequential([\n",
    "    tf.keras.layers.Conv2D(32, [3, 3], activation='relu'),\n",
    "    tf.keras.layers.Conv2D(64, [3, 3], activation='relu'),\n",
    "    tf.keras.layers.MaxPooling2D(pool_size=(2, 2)),\n",
    "    tf.keras.layers.Dropout(0.25),\n",
    "    tf.keras.layers.Flatten(),\n",
    "    tf.keras.layers.Dense(128, activation='relu'),\n",
    "    tf.keras.layers.Dropout(0.5),\n",
    "    tf.keras.layers.Dense(10, activation='softmax')\n",
    "])\n",
    "\n",
    "loss = tf.losses.SparseCategoricalCrossentropy()\n",
    "\n",
    "opt = tf.optimizers.Adam(lr)\n",
    "\n",
    "checkpoint_dir = './checkpoints/tf2_mnist'\n",
    "\n",
    "checkpoint = tf.train.Checkpoint(model=mnist_model, optimizer=opt)\n"
   ]
  },
  {
   "cell_type": "code",
   "execution_count": 72,
   "id": "5b3a3f28",
   "metadata": {},
   "outputs": [
    {
     "data": {
      "image/png": "[encoded data removed]",
      "text/plain": [
       "<Figure size 432x288 with 8 Axes>"
      ]
     },
     "metadata": {},
     "output_type": "display_data"
    }
   ],
   "source": [
    "for x, y in dataset.take(1):\n",
    "    probs = mnist_model(x)\n",
    "    pred = tf.math.argmax(probs, axis=1)\n",
    "    for i in range(8):    \n",
    "        plt.subplot(181+i)\n",
    "        plt.imshow(x[i].numpy())\n",
    "        plt.xticks([]);plt.yticks([])\n",
    "        plt.title(\"%s(%s)\"%(pred[i].numpy(),y[i].numpy()), fontsize=18)\n",
    "plt.show()"
   ]
  },
  {
   "cell_type": "markdown",
   "id": "125361fb",
   "metadata": {},
   "source": [
    "## Training "
   ]
  },
  {
   "cell_type": "code",
   "execution_count": 73,
   "id": "e1455a6d",
   "metadata": {},
   "outputs": [],
   "source": [
    "@tf.function\n",
    "def training_step(images, labels):\n",
    "    with tf.GradientTape() as tape:\n",
    "        probs = mnist_model(images, training=True)\n",
    "        loss_value = loss(labels, probs)\n",
    "        pred = tf.math.argmax(probs, axis=1)\n",
    "        equality = tf.math.equal(pred, labels)\n",
    "        accuracy = tf.math.reduce_mean(tf.cast(equality, tf.float32))\n",
    "    grads = tape.gradient(loss_value, mnist_model.trainable_variables)\n",
    "    opt.apply_gradients(zip(grads, mnist_model.trainable_variables))\n",
    "    return loss_value, accuracy\n",
    "\n",
    "@tf.function\n",
    "def validation_step(images, labels):\n",
    "    probs = mnist_model(images, training=False)\n",
    "    pred = tf.math.argmax(probs, axis=1)\n",
    "    equality = tf.math.equal(pred, labels)\n",
    "    accuracy = tf.math.reduce_mean(tf.cast(equality, tf.float32))\n",
    "    loss_value = loss(labels, probs)\n",
    "    return loss_value, accuracy"
   ]
  },
  {
   "cell_type": "code",
   "execution_count": 74,
   "id": "2f2b3c7c",
   "metadata": {},
   "outputs": [
    {
     "name": "stdout",
     "output_type": "stream",
     "text": [
      "Number of training step: 234\n",
      "Number of validation step: 39\n"
     ]
    }
   ],
   "source": [
    "nstep = nsamples//batch_size\n",
    "ntest_step = ntests//batch_size\n",
    "\n",
    "print(\"Number of training step: %d\" %nstep)\n",
    "print(\"Number of validation step: %d\"%ntest_step)"
   ]
  },
  {
   "cell_type": "code",
   "execution_count": 75,
   "id": "419fcdaf",
   "metadata": {},
   "outputs": [
    {
     "name": "stdout",
     "output_type": "stream",
     "text": [
      "Epoch - 0, step #000000/000234\tLoss: 2.304260\n",
      "Epoch - 0, step #000100/000234\tLoss: 0.196073\n",
      "Epoch - 0, step #000200/000234\tLoss: 0.132165\n",
      "Epoch - 0, train Loss: 0.294695, train Acc: 0.911359, val loss: 0.059218, val Acc: 0.981971 1.182860 seconds\n",
      "Epoch - 1, step #000000/000234\tLoss: 0.094393\n",
      "Epoch - 1, step #000100/000234\tLoss: 0.097680\n",
      "Epoch - 1, step #000200/000234\tLoss: 0.069722\n",
      "Epoch - 1, train Loss: 0.093245, train Acc: 0.971988, val loss: 0.043565, val Acc: 0.985878 0.817404 seconds\n",
      "Epoch - 2, step #000000/000234\tLoss: 0.033488\n",
      "Epoch - 2, step #000100/000234\tLoss: 0.064765\n",
      "Epoch - 2, step #000200/000234\tLoss: 0.081487\n",
      "Epoch - 2, train Loss: 0.069103, train Acc: 0.979833, val loss: 0.036781, val Acc: 0.987180 0.812901 seconds\n",
      "Epoch - 3, step #000000/000234\tLoss: 0.027600\n",
      "Epoch - 3, step #000100/000234\tLoss: 0.137792\n",
      "Epoch - 3, step #000200/000234\tLoss: 0.043420\n",
      "Epoch - 3, train Loss: 0.053468, train Acc: 0.983439, val loss: 0.031803, val Acc: 0.989183 0.820854 seconds\n",
      "Epoch - 4, step #000000/000234\tLoss: 0.048839\n",
      "Epoch - 4, step #000100/000234\tLoss: 0.036121\n",
      "Epoch - 4, step #000200/000234\tLoss: 0.026862\n",
      "Epoch - 4, train Loss: 0.045644, train Acc: 0.985692, val loss: 0.033461, val Acc: 0.988482 0.817723 seconds\n",
      "Epoch - 5, step #000000/000234\tLoss: 0.042374\n",
      "Epoch - 5, step #000100/000234\tLoss: 0.035464\n",
      "Epoch - 5, step #000200/000234\tLoss: 0.047518\n",
      "Epoch - 5, train Loss: 0.040888, train Acc: 0.987028, val loss: 0.035246, val Acc: 0.989583 0.822896 seconds\n",
      "Epoch - 6, step #000000/000234\tLoss: 0.017648\n",
      "Epoch - 6, step #000100/000234\tLoss: 0.024806\n",
      "Epoch - 6, step #000200/000234\tLoss: 0.063262\n",
      "Epoch - 6, train Loss: 0.037059, train Acc: 0.988397, val loss: 0.034823, val Acc: 0.988782 0.818186 seconds\n",
      "Epoch - 7, step #000000/000234\tLoss: 0.037990\n",
      "Epoch - 7, step #000100/000234\tLoss: 0.057634\n",
      "Epoch - 7, step #000200/000234\tLoss: 0.053477\n",
      "Epoch - 7, train Loss: 0.033698, train Acc: 0.989064, val loss: 0.030004, val Acc: 0.990685 0.816293 seconds\n",
      "Epoch - 8, step #000000/000234\tLoss: 0.033559\n",
      "Epoch - 8, step #000100/000234\tLoss: 0.028390\n",
      "Epoch - 8, step #000200/000234\tLoss: 0.021801\n",
      "Epoch - 8, train Loss: 0.030656, train Acc: 0.989899, val loss: 0.029439, val Acc: 0.990184 0.818049 seconds\n",
      "Epoch - 9, step #000000/000234\tLoss: 0.025645\n",
      "Epoch - 9, step #000100/000234\tLoss: 0.021769\n",
      "Epoch - 9, step #000200/000234\tLoss: 0.023590\n",
      "Epoch - 9, train Loss: 0.026178, train Acc: 0.991285, val loss: 0.028213, val Acc: 0.991787 0.809067 seconds\n",
      "Epoch - 10, step #000000/000234\tLoss: 0.044178\n",
      "Epoch - 10, step #000100/000234\tLoss: 0.023254\n",
      "Epoch - 10, step #000200/000234\tLoss: 0.011696\n",
      "Epoch - 10, train Loss: 0.025008, train Acc: 0.992053, val loss: 0.029967, val Acc: 0.990986 0.826293 seconds\n",
      "Epoch - 11, step #000000/000234\tLoss: 0.023027\n",
      "Epoch - 11, step #000100/000234\tLoss: 0.016939\n",
      "Epoch - 11, step #000200/000234\tLoss: 0.053247\n",
      "Epoch - 11, train Loss: 0.023910, train Acc: 0.991835, val loss: 0.029630, val Acc: 0.990685 0.812282 seconds\n",
      "Epoch - 12, step #000000/000234\tLoss: 0.033886\n",
      "Epoch - 12, step #000100/000234\tLoss: 0.017196\n",
      "Epoch - 12, step #000200/000234\tLoss: 0.015101\n",
      "Epoch - 12, train Loss: 0.020695, train Acc: 0.992787, val loss: 0.031353, val Acc: 0.990986 0.819723 seconds\n",
      "Epoch - 13, step #000000/000234\tLoss: 0.006056\n",
      "Epoch - 13, step #000100/000234\tLoss: 0.027952\n",
      "Epoch - 13, step #000200/000234\tLoss: 0.003953\n",
      "Epoch - 13, train Loss: 0.020867, train Acc: 0.993104, val loss: 0.027611, val Acc: 0.992388 0.818522 seconds\n",
      "Epoch - 14, step #000000/000234\tLoss: 0.020111\n",
      "Epoch - 14, step #000100/000234\tLoss: 0.006485\n",
      "Epoch - 14, step #000200/000234\tLoss: 0.036728\n",
      "Epoch - 14, train Loss: 0.017757, train Acc: 0.993939, val loss: 0.030175, val Acc: 0.991787 0.828072 seconds\n",
      "Epoch - 15, step #000000/000234\tLoss: 0.008739\n",
      "Epoch - 15, step #000100/000234\tLoss: 0.025483\n",
      "Epoch - 15, step #000200/000234\tLoss: 0.028528\n",
      "Epoch - 15, train Loss: 0.018330, train Acc: 0.993839, val loss: 0.028785, val Acc: 0.990685 0.857824 seconds\n",
      "Total training time: 13.533196926116943 seconds\n"
     ]
    }
   ],
   "source": [
    "import time\n",
    "t0 = time.time()\n",
    "\n",
    "metrics={}\n",
    "metrics['train_acc'] = []\n",
    "metrics['valid_acc'] = []\n",
    "metrics['train_loss'] = []\n",
    "metrics['valid_loss'] = []\n",
    "metrics['time_per_epoch'] = []\n",
    "for ep in range(epochs):\n",
    "    training_loss = 0.0\n",
    "    training_acc = 0.0\n",
    "    tt0 = time.time()\n",
    "    for batch, (images, labels) in enumerate(dataset.take(nstep)):\n",
    "        loss_value, acc = training_step(images, labels)\n",
    "        training_loss += loss_value/nstep\n",
    "        training_acc += acc/nstep\n",
    "        if batch % 100 == 0:\n",
    "            checkpoint.save(checkpoint_dir)\n",
    "            print('Epoch - %d, step #%06d/%06d\\tLoss: %.6f' % (ep, batch, nstep, loss_value))\n",
    "    # Testing                                                                                                                                    \n",
    "    test_acc = 0.0\n",
    "    test_loss = 0.0\n",
    "    for batch, (images, labels) in enumerate(test_dset.take(ntest_step)):\n",
    "        loss_value, acc = validation_step(images, labels)\n",
    "        test_acc += acc/ntest_step\n",
    "        test_loss += loss_value/ntest_step\n",
    "    tt1 = time.time()\n",
    "    print('Epoch - %d, train Loss: %.6f, train Acc: %.6f, val loss: %.6f, val Acc: %.6f %.6f seconds' % (ep, training_loss,\\\n",
    " training_acc, test_loss, test_acc, tt1 - tt0))\n",
    "    metrics['train_acc'].append(training_acc)\n",
    "    metrics['train_loss'].append(training_loss)\n",
    "    metrics['valid_acc'].append(test_acc)\n",
    "    metrics['valid_loss'].append(test_loss)\n",
    "    metrics['time_per_epoch'].append(tt1 - tt0)\n",
    "checkpoint.save(checkpoint_dir)\n",
    "t1 = time.time()\n",
    "print(\"Total training time: %s seconds\" %(t1 - t0))\n",
    "np.savetxt(\"metrics.dat\", np.array([metrics['train_acc'], metrics['train_loss'], metrics['valid_acc'], metrics['valid_loss\\\n",
    "'], metrics['time_per_epochs']]).transpose())"
   ]
  },
  {
   "cell_type": "code",
   "execution_count": 76,
   "id": "57481815",
   "metadata": {},
   "outputs": [
    {
     "data": {
      "image/png": "[encoded data removed]",
      "text/plain": [
       "<Figure size 432x288 with 1 Axes>"
      ]
     },
     "metadata": {
      "needs_background": "light"
     },
     "output_type": "display_data"
    },
    {
     "data": {
      "image/png": "[encoded data removed]",
      "text/plain": [
       "<Figure size 432x288 with 1 Axes>"
      ]
     },
     "metadata": {
      "needs_background": "light"
     },
     "output_type": "display_data"
    }
   ],
   "source": [
    "import matplotlib.pylab as plt\n",
    "plt.plot(metrics['train_loss'], label='Training')\n",
    "plt.plot(metrics['valid_loss'], label=\"Validation\")\n",
    "plt.ylabel(\"loss\")\n",
    "plt.xlabel(\"Epochs\")\n",
    "plt.legend()\n",
    "plt.show()\n",
    "\n",
    "import matplotlib.pylab as plt\n",
    "plt.plot(metrics['train_acc'], label='Training')\n",
    "plt.plot(metrics['valid_acc'], label=\"Validation\")\n",
    "plt.ylabel(\"Accuracy\")\n",
    "plt.xlabel(\"Epochs\")\n",
    "plt.legend()\n",
    "plt.show()"
   ]
  },
  {
   "cell_type": "code",
   "execution_count": 77,
   "id": "a69634a3",
   "metadata": {},
   "outputs": [
    {
     "name": "stdout",
     "output_type": "stream",
     "text": [
      "(256, 28, 28, 1) (256,)\n"
     ]
    },
    {
     "data": {
      "image/png": "[encoded data removed]",
      "text/plain": [
       "<Figure size 432x288 with 8 Axes>"
      ]
     },
     "metadata": {},
     "output_type": "display_data"
    }
   ],
   "source": [
    "import matplotlib.pylab as plt\n",
    "for x, y in dataset.take(1):\n",
    "    print(x.shape, y.shape)\n",
    "    probs = mnist_model(x)\n",
    "    pred = tf.math.argmax(probs, axis=1)\n",
    "    for i in range(8):    \n",
    "        plt.subplot(181+i)\n",
    "        plt.imshow(x[i].numpy())\n",
    "        plt.xticks([]);plt.yticks([])\n",
    "        plt.title(\"%s(%s)\"%(pred[i].numpy(),y[i].numpy()), fontsize=18)\n",
    "plt.show()"
   ]
  },
  {
   "cell_type": "code",
   "execution_count": null,
   "id": "7be2ae74",
   "metadata": {},
   "outputs": [],
   "source": []
  }
 ],
 "metadata": {
  "kernelspec": {
   "display_name": "Python 3 (ipykernel)",
   "language": "python",
   "name": "python3"
  },
  "language_info": {
   "codemirror_mode": {
    "name": "ipython",
    "version": 3
   },
   "file_extension": ".py",
   "mimetype": "text/x-python",
   "name": "python",
   "nbconvert_exporter": "python",
   "pygments_lexer": "ipython3",
   "version": "3.7.4"
  }
 },
 "nbformat": 4,
 "nbformat_minor": 5
}
