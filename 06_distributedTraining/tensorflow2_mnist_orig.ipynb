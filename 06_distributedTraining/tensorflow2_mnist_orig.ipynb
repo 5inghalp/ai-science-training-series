{
 "cells": [
  {
   "cell_type": "code",
   "execution_count": 1,
   "id": "62a8c998",
   "metadata": {},
   "outputs": [],
   "source": [
    "import tensorflow as tf\n",
    "import numpy as np"
   ]
  },
  {
   "cell_type": "code",
   "execution_count": 2,
   "id": "a3d8c16e",
   "metadata": {},
   "outputs": [],
   "source": [
    "gpus = tf.config.experimental.list_physical_devices('GPU')\n",
    "for gpu in gpus:\n",
    "    tf.config.experimental.set_memory_growth(gpu, True)\n",
    "    "
   ]
  },
  {
   "cell_type": "markdown",
   "id": "ba7c8be3",
   "metadata": {},
   "source": [
    "## Paramemters"
   ]
  },
  {
   "cell_type": "code",
   "execution_count": 3,
   "id": "5f87f21a",
   "metadata": {},
   "outputs": [],
   "source": [
    "epochs = 16\n",
    "lr = 0.001"
   ]
  },
  {
   "cell_type": "markdown",
   "id": "1f883ee2",
   "metadata": {},
   "source": [
    "## Dataset"
   ]
  },
  {
   "cell_type": "code",
   "execution_count": 4,
   "id": "172cd648",
   "metadata": {},
   "outputs": [
    {
     "name": "stdout",
     "output_type": "stream",
     "text": [
      "(60000, 28, 28) (60000,)\n",
      "(10000, 28, 28) (10000,)\n"
     ]
    }
   ],
   "source": [
    "batch_size = 256\n",
    "\n",
    "(mnist_images, mnist_labels), (x_test, y_test) = \\\n",
    "    tf.keras.datasets.mnist.load_data(path='mnist.npz')\n",
    "\n",
    "print(mnist_images.shape, mnist_labels.shape)\n",
    "print(x_test.shape, y_test.shape)"
   ]
  },
  {
   "cell_type": "code",
   "execution_count": 5,
   "id": "e2cd3c2e",
   "metadata": {},
   "outputs": [],
   "source": [
    "dataset = tf.data.Dataset.from_tensor_slices(\n",
    "    (tf.cast(mnist_images[..., tf.newaxis] / 255.0, tf.float32),\n",
    "             tf.cast(mnist_labels, tf.int64))\n",
    ")\n",
    "test_dset = tf.data.Dataset.from_tensor_slices(\n",
    "    (tf.cast(x_test[..., tf.newaxis] / 255.0, tf.float32),\n",
    "             tf.cast(y_test, tf.int64))\n",
    ")\n",
    "\n",
    "nsamples = len(list(dataset))\n",
    "ntests = len(list(test_dset))\n",
    "\n",
    "dataset = dataset.repeat().shuffle(10000).batch(batch_size)\n",
    "test_dset  = test_dset.repeat().batch(batch_size)"
   ]
  },
  {
   "cell_type": "code",
   "execution_count": 6,
   "id": "db02f337",
   "metadata": {},
   "outputs": [
    {
     "name": "stdout",
     "output_type": "stream",
     "text": [
      "(256, 28, 28, 1) (256,)\n"
     ]
    },
    {
     "data": {
      "image/png": "[encoded data removed]",
      "text/plain": [
       "<Figure size 432x288 with 8 Axes>"
      ]
     },
     "metadata": {},
     "output_type": "display_data"
    }
   ],
   "source": [
    "import matplotlib.pylab as plt\n",
    "for x, y in dataset.take(1):\n",
    "    print(x.shape, y.shape)\n",
    "    for i in range(8):    \n",
    "        plt.subplot(181+i)\n",
    "        plt.imshow(x[i].numpy())\n",
    "        plt.xticks([]);plt.yticks([])\n",
    "        plt.title(y[i].numpy(), fontsize=18)\n",
    "plt.show()"
   ]
  },
  {
   "cell_type": "markdown",
   "id": "6c0cb938",
   "metadata": {},
   "source": [
    "## Model"
   ]
  },
  {
   "cell_type": "code",
   "execution_count": 17,
   "id": "7db8e0dd",
   "metadata": {},
   "outputs": [],
   "source": [
    "mnist_model = tf.keras.Sequential([\n",
    "    tf.keras.layers.Conv2D(32, [3, 3], activation='relu'),\n",
    "    tf.keras.layers.Conv2D(64, [3, 3], activation='relu'),\n",
    "    tf.keras.layers.MaxPooling2D(pool_size=(2, 2)),\n",
    "    tf.keras.layers.Dropout(0.25),\n",
    "    tf.keras.layers.Flatten(),\n",
    "    tf.keras.layers.Dense(128, activation='relu'),\n",
    "    tf.keras.layers.Dropout(0.5),\n",
    "    tf.keras.layers.Dense(10, activation='softmax')\n",
    "])\n",
    "\n",
    "loss = tf.losses.SparseCategoricalCrossentropy()\n",
    "\n",
    "opt = tf.optimizers.Adam(lr)\n",
    "\n",
    "checkpoint_dir = './checkpoints/tf2_mnist'\n",
    "\n",
    "checkpoint = tf.train.Checkpoint(model=mnist_model, optimizer=opt)\n"
   ]
  },
  {
   "cell_type": "code",
   "execution_count": 10,
   "id": "5b3a3f28",
   "metadata": {},
   "outputs": [
    {
     "data": {
      "image/png": "[encoded data removed]",
      "text/plain": [
       "<Figure size 432x288 with 8 Axes>"
      ]
     },
     "metadata": {},
     "output_type": "display_data"
    }
   ],
   "source": [
    "for x, y in dataset.take(1):\n",
    "    probs = mnist_model(x)\n",
    "    pred = tf.math.argmax(probs, axis=1)\n",
    "    for i in range(8):    \n",
    "        plt.subplot(181+i)\n",
    "        plt.imshow(x[i].numpy())\n",
    "        plt.xticks([]);plt.yticks([])\n",
    "        plt.title(\"%s(%s)\"%(pred[i].numpy(),y[i].numpy()), fontsize=18)\n",
    "plt.show()"
   ]
  },
  {
   "cell_type": "markdown",
   "id": "125361fb",
   "metadata": {},
   "source": [
    "## Training "
   ]
  },
  {
   "cell_type": "code",
   "execution_count": 11,
   "id": "e1455a6d",
   "metadata": {},
   "outputs": [],
   "source": [
    "@tf.function\n",
    "def training_step(images, labels):\n",
    "    with tf.GradientTape() as tape:\n",
    "        probs = mnist_model(images, training=True)\n",
    "        loss_value = loss(labels, probs)\n",
    "        pred = tf.math.argmax(probs, axis=1)\n",
    "        equality = tf.math.equal(pred, labels)\n",
    "        accuracy = tf.math.reduce_mean(tf.cast(equality, tf.float32))\n",
    "    grads = tape.gradient(loss_value, mnist_model.trainable_variables)\n",
    "    opt.apply_gradients(zip(grads, mnist_model.trainable_variables))\n",
    "    return loss_value, accuracy\n",
    "\n",
    "@tf.function\n",
    "def validation_step(images, labels):\n",
    "    probs = mnist_model(images, training=False)\n",
    "    pred = tf.math.argmax(probs, axis=1)\n",
    "    equality = tf.math.equal(pred, labels)\n",
    "    accuracy = tf.math.reduce_mean(tf.cast(equality, tf.float32))\n",
    "    loss_value = loss(labels, probs)\n",
    "    return loss_value, accuracy"
   ]
  },
  {
   "cell_type": "code",
   "execution_count": 12,
   "id": "2f2b3c7c",
   "metadata": {},
   "outputs": [
    {
     "name": "stdout",
     "output_type": "stream",
     "text": [
      "Number of training step: 234\n",
      "Number of validation step: 39\n"
     ]
    }
   ],
   "source": [
    "nstep = nsamples//batch_size\n",
    "ntest_step = ntests//batch_size\n",
    "\n",
    "print(\"Number of training step: %d\" %nstep)\n",
    "print(\"Number of validation step: %d\"%ntest_step)"
   ]
  },
  {
   "cell_type": "code",
   "execution_count": 18,
   "id": "419fcdaf",
   "metadata": {},
   "outputs": [
    {
     "name": "stdout",
     "output_type": "stream",
     "text": [
      "Epoch - 0, step #000000/000234\tLoss: 0.014356\n",
      "Epoch - 0, step #000100/000234\tLoss: 0.004331\n",
      "Epoch - 0, step #000200/000234\tLoss: 0.013387\n",
      "Epoch - 0, train Loss: 0.006859, train Acc: 0.997564, val loss: 0.041010, val Acc: 0.992288 0.746115 seconds\n",
      "Epoch - 1, step #000000/000234\tLoss: 0.000916\n",
      "Epoch - 1, step #000100/000234\tLoss: 0.008459\n",
      "Epoch - 1, step #000200/000234\tLoss: 0.026732\n",
      "Epoch - 1, train Loss: 0.007198, train Acc: 0.997513, val loss: 0.036203, val Acc: 0.992688 0.747469 seconds\n",
      "Epoch - 2, step #000000/000234\tLoss: 0.003047\n",
      "Epoch - 2, step #000100/000234\tLoss: 0.001218\n",
      "Epoch - 2, step #000200/000234\tLoss: 0.020550\n",
      "Epoch - 2, train Loss: 0.006673, train Acc: 0.997647, val loss: 0.036726, val Acc: 0.992588 0.742054 seconds\n",
      "Epoch - 3, step #000000/000234\tLoss: 0.000555\n",
      "Epoch - 3, step #000100/000234\tLoss: 0.000978\n",
      "Epoch - 3, step #000200/000234\tLoss: 0.007396\n",
      "Epoch - 3, train Loss: 0.006418, train Acc: 0.997747, val loss: 0.038074, val Acc: 0.991987 0.760058 seconds\n",
      "Epoch - 4, step #000000/000234\tLoss: 0.011538\n",
      "Epoch - 4, step #000100/000234\tLoss: 0.000099\n",
      "Epoch - 4, step #000200/000234\tLoss: 0.013913\n",
      "Epoch - 4, train Loss: 0.006089, train Acc: 0.997881, val loss: 0.037530, val Acc: 0.992788 0.735421 seconds\n",
      "Epoch - 5, step #000000/000234\tLoss: 0.001036\n",
      "Epoch - 5, step #000100/000234\tLoss: 0.009340\n",
      "Epoch - 5, step #000200/000234\tLoss: 0.047097\n",
      "Epoch - 5, train Loss: 0.006378, train Acc: 0.997847, val loss: 0.037312, val Acc: 0.992889 0.735693 seconds\n",
      "Epoch - 6, step #000000/000234\tLoss: 0.002588\n",
      "Epoch - 6, step #000100/000234\tLoss: 0.001327\n",
      "Epoch - 6, step #000200/000234\tLoss: 0.014428\n",
      "Epoch - 6, train Loss: 0.006675, train Acc: 0.997764, val loss: 0.038145, val Acc: 0.992989 0.772247 seconds\n",
      "Epoch - 7, step #000000/000234\tLoss: 0.018374\n",
      "Epoch - 7, step #000100/000234\tLoss: 0.000729\n",
      "Epoch - 7, step #000200/000234\tLoss: 0.004752\n",
      "Epoch - 7, train Loss: 0.005727, train Acc: 0.997981, val loss: 0.039383, val Acc: 0.992388 0.749019 seconds\n",
      "Epoch - 8, step #000000/000234\tLoss: 0.009324\n",
      "Epoch - 8, step #000100/000234\tLoss: 0.006176\n",
      "Epoch - 8, step #000200/000234\tLoss: 0.008418\n",
      "Epoch - 8, train Loss: 0.005492, train Acc: 0.998081, val loss: 0.042195, val Acc: 0.993389 0.736805 seconds\n",
      "Epoch - 9, step #000000/000234\tLoss: 0.000211\n",
      "Epoch - 9, step #000100/000234\tLoss: 0.000112\n",
      "Epoch - 9, step #000200/000234\tLoss: 0.004513\n",
      "Epoch - 9, train Loss: 0.007104, train Acc: 0.997513, val loss: 0.036160, val Acc: 0.992889 0.734462 seconds\n",
      "Epoch - 10, step #000000/000234\tLoss: 0.001529\n",
      "Epoch - 10, step #000100/000234\tLoss: 0.012296\n",
      "Epoch - 10, step #000200/000234\tLoss: 0.014891\n",
      "Epoch - 10, train Loss: 0.006259, train Acc: 0.997797, val loss: 0.035833, val Acc: 0.993189 0.732167 seconds\n",
      "Epoch - 11, step #000000/000234\tLoss: 0.000474\n",
      "Epoch - 11, step #000100/000234\tLoss: 0.000889\n",
      "Epoch - 11, step #000200/000234\tLoss: 0.023839\n",
      "Epoch - 11, train Loss: 0.006461, train Acc: 0.997897, val loss: 0.035149, val Acc: 0.992788 0.735168 seconds\n",
      "Epoch - 12, step #000000/000234\tLoss: 0.007134\n",
      "Epoch - 12, step #000100/000234\tLoss: 0.007918\n",
      "Epoch - 12, step #000200/000234\tLoss: 0.009905\n",
      "Epoch - 12, train Loss: 0.005701, train Acc: 0.998081, val loss: 0.037246, val Acc: 0.992889 0.737138 seconds\n",
      "Epoch - 13, step #000000/000234\tLoss: 0.001938\n",
      "Epoch - 13, step #000100/000234\tLoss: 0.000800\n",
      "Epoch - 13, step #000200/000234\tLoss: 0.010651\n",
      "Epoch - 13, train Loss: 0.006292, train Acc: 0.997847, val loss: 0.041702, val Acc: 0.991787 0.732236 seconds\n",
      "Epoch - 14, step #000000/000234\tLoss: 0.002298\n",
      "Epoch - 14, step #000100/000234\tLoss: 0.002646\n",
      "Epoch - 14, step #000200/000234\tLoss: 0.000845\n",
      "Epoch - 14, train Loss: 0.004877, train Acc: 0.998399, val loss: 0.042356, val Acc: 0.992688 0.734766 seconds\n",
      "Epoch - 15, step #000000/000234\tLoss: 0.004349\n",
      "Epoch - 15, step #000100/000234\tLoss: 0.001180\n",
      "Epoch - 15, step #000200/000234\tLoss: 0.021727\n",
      "Epoch - 15, train Loss: 0.006426, train Acc: 0.997881, val loss: 0.041941, val Acc: 0.992288 0.737844 seconds\n",
      "Total training time: 11.883190393447876 seconds\n"
     ]
    }
   ],
   "source": [
    "import time\n",
    "t0 = time.time()\n",
    "\n",
    "metrics={}\n",
    "metrics['train_acc'] = []\n",
    "metrics['valid_acc'] = []\n",
    "metrics['train_loss'] = []\n",
    "metrics['valid_loss'] = []\n",
    "metrics['time_per_epoch'] = []\n",
    "for ep in range(epochs):\n",
    "    training_loss = 0.0\n",
    "    training_acc = 0.0\n",
    "    tt0 = time.time()\n",
    "    for batch, (images, labels) in enumerate(dataset.take(nstep)):\n",
    "        loss_value, acc = training_step(images, labels)\n",
    "        training_loss += loss_value/nstep\n",
    "        training_acc += acc/nstep\n",
    "        \n",
    "        if batch % 100 == 0:\n",
    "            checkpoint.save(checkpoint_dir)\n",
    "            print('Epoch - %d, step #%06d/%06d\\tLoss: %.6f' % (ep, batch, nstep, loss_value))\n",
    "    # Testing                                                                                                                                    \n",
    "    test_acc = 0.0\n",
    "    test_loss = 0.0\n",
    "    for batch, (images, labels) in enumerate(test_dset.take(ntest_step)):\n",
    "        loss_value, acc = validation_step(images, labels)\n",
    "        test_acc += acc/ntest_step\n",
    "        test_loss += loss_value/ntest_step\n",
    "    tt1 = time.time()\n",
    "    print('Epoch - %d, train Loss: %.6f, train Acc: %.6f, val loss: %.6f, val Acc: %.6f %.6f seconds' % (ep, training_loss,\\\n",
    " training_acc, test_loss, test_acc, tt1 - tt0))\n",
    "    metrics['train_acc'].append(training_acc)\n",
    "    metrics['train_loss'].append(training_loss)\n",
    "    metrics['valid_acc'].append(test_acc)\n",
    "    metrics['valid_loss'].append(test_loss)\n",
    "    metrics['time_per_epoch'].append(tt1 - tt0)\n",
    "checkpoint.save(checkpoint_dir)\n",
    "t1 = time.time()\n",
    "print(\"Total training time: %s seconds\" %(t1 - t0))\n",
    "np.savetxt(\"metrics.dat\", np.array([metrics['train_acc'], metrics['train_loss'], metrics['valid_acc'], metrics['valid_loss\\\n",
    "'], metrics['time_per_epoch']]).transpose())"
   ]
  },
  {
   "cell_type": "code",
   "execution_count": 19,
   "id": "57481815",
   "metadata": {},
   "outputs": [
    {
     "data": {
      "image/png": "[encoded data removed]",
      "text/plain": [
       "<Figure size 432x288 with 1 Axes>"
      ]
     },
     "metadata": {
      "needs_background": "light"
     },
     "output_type": "display_data"
    },
    {
     "data": {
      "image/png": "[encoded data removed]",
      "text/plain": [
       "<Figure size 432x288 with 1 Axes>"
      ]
     },
     "metadata": {
      "needs_background": "light"
     },
     "output_type": "display_data"
    }
   ],
   "source": [
    "import matplotlib.pylab as plt\n",
    "plt.plot(metrics['train_loss'], label='Training')\n",
    "plt.plot(metrics['valid_loss'], label=\"Validation\")\n",
    "plt.ylabel(\"loss\")\n",
    "plt.xlabel(\"Epochs\")\n",
    "plt.legend()\n",
    "plt.show()\n",
    "\n",
    "import matplotlib.pylab as plt\n",
    "plt.plot(metrics['train_acc'], label='Training')\n",
    "plt.plot(metrics['valid_acc'], label=\"Validation\")\n",
    "plt.ylabel(\"Accuracy\")\n",
    "plt.xlabel(\"Epochs\")\n",
    "plt.legend()\n",
    "plt.show()"
   ]
  },
  {
   "cell_type": "code",
   "execution_count": 77,
   "id": "a69634a3",
   "metadata": {},
   "outputs": [
    {
     "name": "stdout",
     "output_type": "stream",
     "text": [
      "(256, 28, 28, 1) (256,)\n"
     ]
    },
    {
     "data": {
      "image/png": "[encoded data removed]",
      "text/plain": [
       "<Figure size 432x288 with 8 Axes>"
      ]
     },
     "metadata": {},
     "output_type": "display_data"
    }
   ],
   "source": [
    "import matplotlib.pylab as plt\n",
    "for x, y in dataset.take(1):\n",
    "    print(x.shape, y.shape)\n",
    "    probs = mnist_model(x)\n",
    "    pred = tf.math.argmax(probs, axis=1)\n",
    "    for i in range(8):    \n",
    "        plt.subplot(181+i)\n",
    "        plt.imshow(x[i].numpy())\n",
    "        plt.xticks([]);plt.yticks([])\n",
    "        plt.title(\"%s(%s)\"%(pred[i].numpy(),y[i].numpy()), fontsize=18)\n",
    "plt.show()"
   ]
  },
  {
   "cell_type": "code",
   "execution_count": null,
   "id": "7be2ae74",
   "metadata": {},
   "outputs": [],
   "source": []
  }
 ],
 "metadata": {
  "kernelspec": {
   "display_name": "conda/2021-11-30",
   "language": "python",
   "name": "conda-2021-11-30"
  },
  "language_info": {
   "codemirror_mode": {
    "name": "ipython",
    "version": 3
   },
   "file_extension": ".py",
   "mimetype": "text/x-python",
   "name": "python",
   "nbconvert_exporter": "python",
   "pygments_lexer": "ipython3",
   "version": "3.8.10"
  }
 },
 "nbformat": 4,
 "nbformat_minor": 5
}
