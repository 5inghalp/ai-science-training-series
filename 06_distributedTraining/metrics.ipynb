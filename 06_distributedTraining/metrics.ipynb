{
 "cells": [
  {
   "cell_type": "code",
   "execution_count": null,
   "id": "d9638aea",
   "metadata": {},
   "outputs": [],
   "source": [
    "import numpy as np\n",
    "import matplotlib.pylab as plt\n",
    "m = {}\n",
    "for i in 1, 2, 4, 8:\n",
    "    m[i] = np.loadtxt(\"metrics_%d.dat\"%i).transpose()"
   ]
  },
  {
   "cell_type": "code",
   "execution_count": null,
   "id": "4785ae63",
   "metadata": {},
   "outputs": [],
   "source": [
    "# total training time\n",
    "np.sum(m[1][4]), np.sum(m[2][4]), np.sum(m[4][4]), np.sum(m[8][4])"
   ]
  },
  {
   "cell_type": "code",
   "execution_count": null,
   "id": "7145519b",
   "metadata": {},
   "outputs": [],
   "source": [
    "# Time per epoch\n",
    "np.mean(m[1][4][1:]), np.mean(m[2][4][1:]), np.mean(m[4][4][1:]), np.mean(m[8][4][1:])"
   ]
  },
  {
   "cell_type": "markdown",
   "id": "d09d3206",
   "metadata": {},
   "source": [
    "## Large batch size training issue"
   ]
  },
  {
   "cell_type": "code",
   "execution_count": null,
   "id": "86bdd26a",
   "metadata": {},
   "outputs": [],
   "source": [
    "for i in 1, 2, 4, 8:\n",
    "    plt.plot(m[i][0], '-', label='train_acc %d'%i)\n",
    "    plt.plot(m[i][2], '--', label='train_loss %d'%i)\n",
    "plt.legend(ncol=4)\n",
    "plt.ylabel('acc',)\n",
    "plt.xlabel(\"epoch\")\n",
    "plt.ylim(0.8, 1.0)\n",
    "plt.show()"
   ]
  },
  {
   "cell_type": "code",
   "execution_count": null,
   "id": "857883fa",
   "metadata": {},
   "outputs": [],
   "source": []
  }
 ],
 "metadata": {
  "kernelspec": {
   "display_name": "Python 3 (ipykernel)",
   "language": "python",
   "name": "python3"
  },
  "language_info": {
   "codemirror_mode": {
    "name": "ipython",
    "version": 3
   },
   "file_extension": ".py",
   "mimetype": "text/x-python",
   "name": "python",
   "nbconvert_exporter": "python",
   "pygments_lexer": "ipython3",
   "version": "3.7.4"
  }
 },
 "nbformat": 4,
 "nbformat_minor": 5
}
